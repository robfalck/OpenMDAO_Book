{
 "cells": [
  {
   "cell_type": "markdown",
   "metadata": {},
   "source": [
    "# Units Definitions\n",
    "\n",
    "This is a list of all the units defined by default in the OpenMDAO library.\n",
    "Any entry in the `[base_units]` or `[units]` sections of the library is a known unit.\n",
    "Valid prefixes are given in the `[prefixes]` section of the library.\n",
    "\n",
    "Go [this document](core_features/defining_components/units) for details on how to specify units on OpenMDAO variables.\n"
   ]
  },
  {
   "cell_type": "code",
   "execution_count": null,
   "metadata": {},
   "outputs": [],
   "source": [
    "try:\n",
    "    import openmdao.api as om\n",
    "except:\n",
    "    !python -m pip install openmdao[notebooks]\n",
    "    import openmdao.api as om"
   ]
  },
  {
   "cell_type": "code",
   "execution_count": null,
   "metadata": {
    "tags": [
     "remove_input",
     "output_scroll"
    ]
   },
   "outputs": [],
   "source": [
    "import openmdao.api as om\n",
    "import pathlib\n",
    "\n",
    "om_path = pathlib.Path(om.__file__).parent\n",
    "unit_library_path = pathlib.Path(om_path, 'utils', 'unit_library.ini')\n",
    "\n",
    "with open(unit_library_path) as f:\n",
    "    print(f.read())"
   ]
  }
 ],
 "metadata": {
  "celltoolbar": "Tags",
  "kernelspec": {
   "display_name": "Python 3",
   "language": "python",
   "name": "python3"
  },
  "language_info": {
   "codemirror_mode": {
    "name": "ipython",
    "version": 3
   },
   "file_extension": ".py",
   "mimetype": "text/x-python",
   "name": "python",
   "nbconvert_exporter": "python",
   "pygments_lexer": "ipython3",
   "version": "3.8.5"
  }
 },
 "nbformat": 4,
 "nbformat_minor": 4
}
